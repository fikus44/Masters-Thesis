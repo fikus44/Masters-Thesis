{
 "cells": [
  {
   "cell_type": "markdown",
   "id": "a270f1cb",
   "metadata": {},
   "source": [
    "## Master's Thesis - Machine Learning in Asset Pricing\n",
    "\n",
    "### Thomas Theodor Kjølbye \n",
    "\n",
    "The Following script produces all output used in the paper. On my computer, the entire script takes approximately 45 minutes to run. "
   ]
  },
  {
   "cell_type": "code",
   "execution_count": 1,
   "id": "84a87067",
   "metadata": {},
   "outputs": [],
   "source": [
    "# The Usual Suspects\n"
   ]
  }
 ],
 "metadata": {
  "kernelspec": {
   "display_name": "Python 3 (ipykernel)",
   "language": "python",
   "name": "python3"
  },
  "language_info": {
   "codemirror_mode": {
    "name": "ipython",
    "version": 3
   },
   "file_extension": ".py",
   "mimetype": "text/x-python",
   "name": "python",
   "nbconvert_exporter": "python",
   "pygments_lexer": "ipython3",
   "version": "3.9.7"
  }
 },
 "nbformat": 4,
 "nbformat_minor": 5
}
