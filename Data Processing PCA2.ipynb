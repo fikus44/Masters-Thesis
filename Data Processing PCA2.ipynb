{
 "cells": [
  {
   "cell_type": "code",
   "execution_count": 19,
   "id": "8de3de21-6556-4f1e-80e2-80a89e701949",
   "metadata": {},
   "outputs": [
    {
     "name": "stdout",
     "output_type": "stream",
     "text": [
      "The autoreload extension is already loaded. To reload it, use:\n",
      "  %reload_ext autoreload\n"
     ]
    }
   ],
   "source": [
    "# Load the usual suspects\n",
    "import csv\n",
    "import pandas as pd\n",
    "import numpy as np\n",
    "import os\n",
    "import Toolbox as tb\n",
    "import DataProcessFunctions as DP\n",
    "import matplotlib.pyplot as plt\n",
    "import seaborn as sns\n",
    "from sklearn.decomposition import PCA\n",
    "\n",
    "%load_ext autoreload\n",
    "%autoreload 2"
   ]
  },
  {
   "cell_type": "code",
   "execution_count": null,
   "id": "91f8f707-f8b3-4490-85d4-9463d4525581",
   "metadata": {},
   "outputs": [],
   "source": [
    "# Initialize warning log container \n",
    "log = list()"
   ]
  },
  {
   "cell_type": "code",
   "execution_count": 3,
   "id": "76be5616-1015-4f3d-b1bc-de5deed9e3ea",
   "metadata": {},
   "outputs": [
    {
     "name": "stdout",
     "output_type": "stream",
     "text": [
      "Before downcast: 2.942 GB and float64    102\n",
      "int64        3\n",
      "dtype: int64\n",
      "After downcast: 1.460 GB and float32    102\n",
      "int32        2\n",
      "int8         1\n",
      "dtype: int64\n",
      "Before downcast: 0.043 GB and float64    1\n",
      "dtype: int64\n",
      "After downcast: 0.029 GB and float32    1\n",
      "dtype: int64\n",
      "Before downcast: 0.043 GB and float64    1\n",
      "dtype: int64\n",
      "After downcast: 0.029 GB and float32    1\n",
      "dtype: int64\n"
     ]
    }
   ],
   "source": [
    "# Load Pre-processed data from Data Processing PCA.ipynb\n",
    "FM_data = pd.read_csv(os.path.dirname(os.getcwd()) + '\\\\FM_data.csv')\n",
    "returns = pd.read_csv(os.path.dirname(os.getcwd()) + '\\\\returns_data.csv').set_index([\"permno\", \"date\"])\n",
    "industry_code = pd.read_csv(os.path.dirname(os.getcwd()) + '\\\\industry_codes.csv').set_index([\"permno\", \"date\"])\n",
    "\n",
    "tb.downcast(FM_data)\n",
    "tb.downcast(returns)\n",
    "tb.downcast(industry_code)"
   ]
  },
  {
   "cell_type": "code",
   "execution_count": 49,
   "id": "a08f72ce-3e94-497e-9bf0-17c6875897e3",
   "metadata": {},
   "outputs": [
    {
     "data": {
      "text/plain": [
       "(195701, 197501, 197501, 198701, 198701, 198801)"
      ]
     },
     "execution_count": 49,
     "metadata": {},
     "output_type": "execute_result"
    }
   ],
   "source": [
    "# Dates partitioning the training, validation, and test set according to Gu, Kelly, and Xiu (2020) by rolling-windows approach\n",
    "tb.partition_dates(iteration = 0) # 30 splits --> iteration = [0;29]"
   ]
  },
  {
   "cell_type": "code",
   "execution_count": null,
   "id": "4f1d3309-7c96-4026-83e3-fbaa08a40d46",
   "metadata": {},
   "outputs": [],
   "source": [
    "# Compute training, validation, and test set\n",
    "training, validation, test = DP.complete_data_process(industry_code, returns, FM_data, iteration = 0)"
   ]
  },
  {
   "cell_type": "code",
   "execution_count": null,
   "id": "bf597d7c-5a05-41b4-97c2-5a26b36fce6d",
   "metadata": {},
   "outputs": [],
   "source": [
    "# Kan lave nyt .py dokument med support function, som er de funktioner jeg bruger i de store funktioner i toolbox.py for at gøre det mere clean. Kan også overveje at lave toolbox2.py i stedet\n",
    "# Jeg kan overveje at ændre pca funktionen, hvis jeg vil have flere linjer i min PCA figur, men det er ikke fokus lige nu \n",
    "# ryd op i kode i morgen lav mapper, toolbox2 osv. "
   ]
  }
 ],
 "metadata": {
  "kernelspec": {
   "display_name": "Python 3 (ipykernel)",
   "language": "python",
   "name": "python3"
  },
  "language_info": {
   "codemirror_mode": {
    "name": "ipython",
    "version": 3
   },
   "file_extension": ".py",
   "mimetype": "text/x-python",
   "name": "python",
   "nbconvert_exporter": "python",
   "pygments_lexer": "ipython3",
   "version": "3.9.7"
  }
 },
 "nbformat": 4,
 "nbformat_minor": 5
}
